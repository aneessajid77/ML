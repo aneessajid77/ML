{
 "cells": [
  {
   "cell_type": "code",
   "execution_count": 13,
   "id": "4ac78957",
   "metadata": {},
   "outputs": [
    {
     "name": "stdout",
     "output_type": "stream",
     "text": [
      "Prior probability for buys_computer = no: 0.3571\n",
      "Prior probability for buys_computer = yes: 0.6429\n"
     ]
    }
   ],
   "source": [
    "data = [\n",
    "    {'age': '<=30', 'income': 'high', 'student': 'no', 'credit_rating': 'fair', 'buys_computer': 'no'},\n",
    "    {'age': '<=30', 'income': 'high', 'student': 'no', 'credit_rating': 'excellent', 'buys_computer': 'no'},\n",
    "    {'age': '31...40', 'income': 'high', 'student': 'no', 'credit_rating': 'fair', 'buys_computer': 'yes'},\n",
    "    {'age': '>40', 'income': 'medium', 'student': 'no', 'credit_rating': 'fair', 'buys_computer': 'yes'},\n",
    "    {'age': '>40', 'income': 'low', 'student': 'yes', 'credit_rating': 'fair', 'buys_computer': 'yes'},\n",
    "    {'age': '>40', 'income': 'low', 'student': 'yes', 'credit_rating': 'excellent', 'buys_computer': 'no'},\n",
    "    {'age': '31...40', 'income': 'low', 'student': 'yes', 'credit_rating': 'excellent', 'buys_computer': 'yes'},\n",
    "    {'age': '<=30', 'income': 'medium', 'student': 'no', 'credit_rating': 'fair', 'buys_computer': 'no'},\n",
    "    {'age': '<=30', 'income': 'low', 'student': 'yes', 'credit_rating': 'fair', 'buys_computer': 'yes'},\n",
    "    {'age': '>40', 'income': 'medium', 'student': 'yes', 'credit_rating': 'fair', 'buys_computer': 'yes'},\n",
    "    {'age': '<=30', 'income': 'medium', 'student': 'yes', 'credit_rating': 'excellent', 'buys_computer': 'yes'},\n",
    "    {'age': '31...40', 'income': 'medium', 'student': 'no', 'credit_rating': 'excellent', 'buys_computer': 'yes'},\n",
    "    {'age': '31...40', 'income': 'high', 'student': 'yes', 'credit_rating': 'fair', 'buys_computer':'yes'},\n",
    "    {'age': '>40','income':'medium','student':'no','credit_rating':'excellent','buys_computer':'no'}\n",
    "]\n",
    "\n",
    "# Count the number of instances for each class\n",
    "count_no = 0\n",
    "count_yes = 0\n",
    "for instance in data:\n",
    "    if instance['buys_computer'] == \"no\":\n",
    "        count_no += 1\n",
    "    else:\n",
    "        count_yes += 1\n",
    "\n",
    "# Calculate the prior probability for each class\n",
    "prior_no = count_no / len(data)\n",
    "prior_yes = count_yes / len(data)\n",
    "\n",
    "print(\"Prior probability for buys_computer = no:\", round(prior_no, 4))\n",
    "print(\"Prior probability for buys_computer = yes:\", round(prior_yes, 4))"
   ]
  },
  {
   "cell_type": "code",
   "execution_count": 14,
   "id": "25d119e1",
   "metadata": {},
   "outputs": [
    {
     "name": "stdout",
     "output_type": "stream",
     "text": [
      "Class Conditional Density: ('age', '<=30', 'yes') = 0.09183673469387756\n",
      "Class Conditional Density: ('age', '<=30', 'no') = 0.07653061224489796\n",
      "Class Conditional Density: ('age', '31...40', 'yes') = 0.1836734693877551\n",
      "Class Conditional Density: ('age', '31...40', 'no') = 0.0\n",
      "Class Conditional Density: ('age', '>40', 'yes') = 0.13775510204081634\n",
      "Class Conditional Density: ('age', '>40', 'no') = 0.05102040816326531\n",
      "Class Conditional Density: ('age', 'high', 'yes') = 0.0\n",
      "Class Conditional Density: ('age', 'high', 'no') = 0.0\n",
      "Class Conditional Density: ('age', 'medium', 'yes') = 0.0\n",
      "Class Conditional Density: ('age', 'medium', 'no') = 0.0\n",
      "Class Conditional Density: ('age', 'low', 'yes') = 0.0\n",
      "Class Conditional Density: ('age', 'low', 'no') = 0.0\n",
      "Class Conditional Density: ('income', '<=30', 'yes') = 0.0\n",
      "Class Conditional Density: ('income', '<=30', 'no') = 0.0\n",
      "Class Conditional Density: ('income', '31...40', 'yes') = 0.0\n",
      "Class Conditional Density: ('income', '31...40', 'no') = 0.0\n",
      "Class Conditional Density: ('income', '>40', 'yes') = 0.0\n",
      "Class Conditional Density: ('income', '>40', 'no') = 0.0\n",
      "Class Conditional Density: ('income', 'high', 'yes') = 0.09183673469387756\n",
      "Class Conditional Density: ('income', 'high', 'no') = 0.05102040816326531\n",
      "Class Conditional Density: ('income', 'medium', 'yes') = 0.1836734693877551\n",
      "Class Conditional Density: ('income', 'medium', 'no') = 0.05102040816326531\n",
      "Class Conditional Density: ('income', 'low', 'yes') = 0.13775510204081634\n",
      "Class Conditional Density: ('income', 'low', 'no') = 0.025510204081632654\n",
      "Class Conditional Density: ('student', '<=30', 'yes') = 0.0\n",
      "Class Conditional Density: ('student', '<=30', 'no') = 0.0\n",
      "Class Conditional Density: ('student', '31...40', 'yes') = 0.0\n",
      "Class Conditional Density: ('student', '31...40', 'no') = 0.0\n",
      "Class Conditional Density: ('student', '>40', 'yes') = 0.0\n",
      "Class Conditional Density: ('student', '>40', 'no') = 0.0\n",
      "Class Conditional Density: ('student', 'high', 'yes') = 0.0\n",
      "Class Conditional Density: ('student', 'high', 'no') = 0.0\n",
      "Class Conditional Density: ('student', 'medium', 'yes') = 0.0\n",
      "Class Conditional Density: ('student', 'medium', 'no') = 0.0\n",
      "Class Conditional Density: ('student', 'low', 'yes') = 0.0\n",
      "Class Conditional Density: ('student', 'low', 'no') = 0.0\n",
      "Class Conditional Density: ('credit_rating', '<=30', 'yes') = 0.0\n",
      "Class Conditional Density: ('credit_rating', '<=30', 'no') = 0.0\n",
      "Class Conditional Density: ('credit_rating', '31...40', 'yes') = 0.0\n",
      "Class Conditional Density: ('credit_rating', '31...40', 'no') = 0.0\n",
      "Class Conditional Density: ('credit_rating', '>40', 'yes') = 0.0\n",
      "Class Conditional Density: ('credit_rating', '>40', 'no') = 0.0\n",
      "Class Conditional Density: ('credit_rating', 'high', 'yes') = 0.0\n",
      "Class Conditional Density: ('credit_rating', 'high', 'no') = 0.0\n",
      "Class Conditional Density: ('credit_rating', 'medium', 'yes') = 0.0\n",
      "Class Conditional Density: ('credit_rating', 'medium', 'no') = 0.0\n",
      "Class Conditional Density: ('credit_rating', 'low', 'yes') = 0.0\n",
      "Class Conditional Density: ('credit_rating', 'low', 'no') = 0.0\n"
     ]
    }
   ],
   "source": [
    "# Calculate the prior probabilities for each class\n",
    "total_instances = len(data)\n",
    "prior_probabilities = {}\n",
    "for buys_computer in ['yes', 'no']:\n",
    "    count_class = sum(1 for d in data if d['buys_computer'] == buys_computer)\n",
    "    prior_probabilities[buys_computer] = count_class / total_instances\n",
    "\n",
    "# Calculate the class conditional densities for each feature and class\n",
    "class_conditional_densities = {}\n",
    "for feature in ['age', 'income', 'student', 'credit_rating']:\n",
    "    for value in ['<=30', '31...40', '>40', 'high', 'medium', 'low']:\n",
    "        for buys_computer in ['yes', 'no']:\n",
    "            # Calculate the class conditional density\n",
    "            count_feature_and_class = sum(1 for d in data if d[feature] == value and d['buys_computer'] == buys_computer)\n",
    "            class_conditional_densities[(feature, value, buys_computer)] = (count_feature_and_class / total_instances) * prior_probabilities[buys_computer]\n",
    "\n",
    "# Print the class conditional densities\n",
    "for key, value in class_conditional_densities.items():\n",
    "    print(f\"Class Conditional Density: {key} = {value}\")\n",
    "\n",
    "\n"
   ]
  },
  {
   "cell_type": "code",
   "execution_count": 8,
   "id": "54d71564",
   "metadata": {},
   "outputs": [
    {
     "name": "stdout",
     "output_type": "stream",
     "text": [
      "Chi-Square value: 13.999999999999996\n",
      "P-value: 0.3738439767150162\n"
     ]
    }
   ],
   "source": [
    "import pandas as pd\n",
    "from scipy.stats import chi2_contingency\n",
    "\n",
    "# Your dataset\n",
    "data = {\n",
    "    'age': ['<=30', '<=30', '31...40', '>40', '>40', '>40', '31...40', '<=30', '<=30', '>40', '<=30', '31...40', '31...40', '>40'],\n",
    "    'income': ['high', 'high', 'high', 'medium', 'low', 'low', 'low', 'medium', 'low', 'medium', 'medium', 'medium', 'high', 'medium'],\n",
    "    'student': ['no', 'no', 'no', 'no', 'yes', 'yes', 'yes', 'no', 'yes', 'yes', 'yes', 'no', 'yes', 'no'],\n",
    "    'credit_rating': ['fair', 'excellent', 'fair', 'fair', 'fair', 'excellent', 'excellent', 'fair', 'fair', 'fair', 'excellent', 'excellent', 'fair', 'excellent'],\n",
    "    'buys_computer': ['no', 'no', 'yes', 'yes', 'yes', 'no', 'yes', 'no', 'yes', 'yes', 'yes', 'yes', 'yes', 'no']\n",
    "}\n",
    "\n",
    "# Create a DataFrame\n",
    "df = pd.DataFrame(data)\n",
    "\n",
    "# Selecting columns for the test\n",
    "columns_to_test = ['age', 'income', 'student', 'credit_rating']\n",
    "\n",
    "# Creating a contingency table\n",
    "contingency_table = pd.crosstab(index=df['buys_computer'], columns=[df[col] for col in columns_to_test])\n",
    "\n",
    "# Performing the Chi-Square test of independence\n",
    "chi2, p_value, dof, expected = chi2_contingency(contingency_table)\n",
    "\n",
    "print(f\"Chi-Square value: {chi2}\")\n",
    "print(f\"P-value: {p_value}\")"
   ]
  },
  {
   "cell_type": "code",
   "execution_count": 9,
   "id": "0a78d286",
   "metadata": {},
   "outputs": [
    {
     "name": "stdout",
     "output_type": "stream",
     "text": [
      "Accuracy: 0.3333333333333333\n"
     ]
    }
   ],
   "source": [
    "import pandas as pd\n",
    "from sklearn.naive_bayes import MultinomialNB  # Changed the Naive Bayes model\n",
    "from sklearn.model_selection import train_test_split\n",
    "from sklearn.metrics import accuracy_score\n",
    "\n",
    "# Load the table data\n",
    "table_data = {\n",
    "    'age': ['<=30', '<=30', '31-40', '>40', '>40', '>40', '31-40', '<=30', '<=30', '>40', '<=30', '31-40', '31-40', '>40'],\n",
    "    'income': ['high', 'high', 'high', 'medium', 'low', 'low', 'low', 'medium', 'low', 'medium', 'medium', 'medium', 'high', 'medium'],\n",
    "    'student': ['no', 'no', 'no', 'no', 'yes', 'yes', 'yes', 'no', 'yes', 'yes', 'yes', 'no', 'yes', 'no'],\n",
    "    'credit_rating': ['fair', 'excellent', 'fair', 'fair', 'fair', 'excellent', 'excellent', 'fair', 'fair', 'fair', 'excellent', 'excellent', 'fair', 'excellent'],\n",
    "    'buys_computer': ['no', 'no', 'yes', 'yes', 'yes', 'no', 'yes', 'no', 'yes', 'yes', 'yes', 'yes', 'yes', 'no']\n",
    "}\n",
    "\n",
    "df = pd.DataFrame(table_data)\n",
    "\n",
    "# Assuming 'buys_computer' is the target variable\n",
    "X = df.drop('buys_computer', axis=1)\n",
    "y = df['buys_computer']\n",
    "\n",
    "# Convert categorical variables to numerical using one-hot encoding\n",
    "X_encoded = pd.get_dummies(X)\n",
    "\n",
    "# Split the data into training and testing sets\n",
    "Tr_X, Te_X, Tr_y, Te_y = train_test_split(X_encoded, y, test_size=0.2, random_state=42)\n",
    "\n",
    "# Build and train the Naïve-Bayes classifier (using MultinomialNB)\n",
    "model = MultinomialNB()  # Changed the model to Multinomial Naive Bayes\n",
    "model.fit(Tr_X, Tr_y)\n",
    "\n",
    "# Make predictions on the test set\n",
    "predictions = model.predict(Te_X)\n",
    "\n",
    "# Evaluate the accuracy of the model\n",
    "accuracy = accuracy_score(Te_y, predictions)\n",
    "print(f\"Accuracy: {accuracy}\")\n"
   ]
  },
  {
   "cell_type": "code",
   "execution_count": 2,
   "id": "eb717b10",
   "metadata": {},
   "outputs": [
    {
     "name": "stdout",
     "output_type": "stream",
     "text": [
      "Accuracy: 0.14\n"
     ]
    }
   ],
   "source": [
    "import pandas as pd\n",
    "from sklearn.preprocessing import LabelEncoder\n",
    "from sklearn.model_selection import train_test_split\n",
    "from sklearn.ensemble import RandomForestClassifier\n",
    "from sklearn.metrics import accuracy_score\n",
    "\n",
    "# Load your dataset\n",
    "\n",
    "df = pd.read_excel(\"C:\\\\Users\\\\INJETI ANEES SAJID\\\\Downloads\\\\t5_train (1).xlsx\")\n",
    "\n",
    "# Define the target column\n",
    "target_column = 'embed_1'  # Replace with the actual name of your target column\n",
    "\n",
    "# Check if the target column is present in the DataFrame\n",
    "if target_column in df.columns:\n",
    "    # Use LabelEncoder to transform the target column\n",
    "    le = LabelEncoder()\n",
    "    df[target_column] = le.fit_transform(df[target_column])\n",
    "\n",
    "    # Assuming you have other feature columns\n",
    "    # Replace 'feature_columns' with the actual list of feature columns\n",
    "    feature_columns = ['embed_2', 'embed_3', 'embed_4', 'embed_5', 'embed_6']\n",
    "\n",
    "    # Split the data into training and testing sets\n",
    "    X_train, X_test, y_train, y_test = train_test_split(\n",
    "        df[feature_columns], df[target_column], test_size=0.2, random_state=42\n",
    "    )\n",
    "\n",
    "    # Create a RandomForestClassifier (you can choose a different model)\n",
    "    model = RandomForestClassifier(random_state=42)\n",
    "\n",
    "    # Train the model\n",
    "    model.fit(X_train, y_train)\n",
    "\n",
    "    # Make predictions on the test set\n",
    "    y_pred = model.predict(X_test)\n",
    "\n",
    "    # Evaluate the model\n",
    "    accuracy = accuracy_score(y_test, y_pred)\n",
    "    print(f\"Accuracy: {accuracy:.2f}\")\n",
    "\n",
    "else:\n",
    "    print(f\"Column '{target_column}' not found in the DataFrame.\")\n"
   ]
  },
  {
   "cell_type": "code",
   "execution_count": null,
   "id": "aff6370a",
   "metadata": {},
   "outputs": [],
   "source": [
    "\n"
   ]
  },
  {
   "cell_type": "code",
   "execution_count": null,
   "id": "7b954fab",
   "metadata": {},
   "outputs": [],
   "source": []
  },
  {
   "cell_type": "code",
   "execution_count": null,
   "id": "849c1a11",
   "metadata": {},
   "outputs": [],
   "source": []
  },
  {
   "cell_type": "code",
   "execution_count": null,
   "id": "283317b5",
   "metadata": {},
   "outputs": [],
   "source": []
  },
  {
   "cell_type": "code",
   "execution_count": null,
   "id": "4b744150",
   "metadata": {},
   "outputs": [],
   "source": []
  },
  {
   "cell_type": "code",
   "execution_count": null,
   "id": "5626b158",
   "metadata": {},
   "outputs": [],
   "source": []
  },
  {
   "cell_type": "code",
   "execution_count": null,
   "id": "b034ec68",
   "metadata": {},
   "outputs": [],
   "source": []
  },
  {
   "cell_type": "code",
   "execution_count": null,
   "id": "13829e0a",
   "metadata": {},
   "outputs": [],
   "source": []
  }
 ],
 "metadata": {
  "kernelspec": {
   "display_name": "Python 3 (ipykernel)",
   "language": "python",
   "name": "python3"
  },
  "language_info": {
   "codemirror_mode": {
    "name": "ipython",
    "version": 3
   },
   "file_extension": ".py",
   "mimetype": "text/x-python",
   "name": "python",
   "nbconvert_exporter": "python",
   "pygments_lexer": "ipython3",
   "version": "3.11.4"
  }
 },
 "nbformat": 4,
 "nbformat_minor": 5
}
